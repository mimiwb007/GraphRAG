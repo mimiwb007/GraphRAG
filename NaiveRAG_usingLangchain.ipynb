{
  "nbformat": 4,
  "nbformat_minor": 0,
  "metadata": {
    "colab": {
      "provenance": [],
      "authorship_tag": "ABX9TyPyk8osopZVpnOvjq0Gy36s",
      "include_colab_link": true
    },
    "kernelspec": {
      "name": "python3",
      "display_name": "Python 3"
    },
    "language_info": {
      "name": "python"
    }
  },
  "cells": [
    {
      "cell_type": "markdown",
      "metadata": {
        "id": "view-in-github",
        "colab_type": "text"
      },
      "source": [
        "<a href=\"https://colab.research.google.com/github/mimiwb007/GraphRAG/blob/main/NaiveRAG_usingLangchain.ipynb\" target=\"_parent\"><img src=\"https://colab.research.google.com/assets/colab-badge.svg\" alt=\"Open In Colab\"/></a>"
      ]
    },
    {
      "cell_type": "code",
      "execution_count": null,
      "metadata": {
        "id": "4GeO3DILehWz"
      },
      "outputs": [],
      "source": [
        "!pip install -U langchain-community\n",
        "!pip install tiktoken\n",
        "!pip install faiss-cpu"
      ]
    },
    {
      "cell_type": "code",
      "source": [
        "import os\n",
        "# from dotenv import load_dotenv\n",
        "from langchain.document_loaders import TextLoader\n",
        "from langchain.text_splitter import RecursiveCharacterTextSplitter\n",
        "from langchain.embeddings.openai import OpenAIEmbeddings\n",
        "from langchain.vectorstores import Pinecone\n",
        "from langchain.llms import OpenAI\n",
        "from langchain.chains import RetrievalQA"
      ],
      "metadata": {
        "id": "R0JFKY2CelYU"
      },
      "execution_count": null,
      "outputs": []
    },
    {
      "cell_type": "code",
      "source": [
        "documents = TextLoader(\"sapnews.txt\").load()\n",
        "\n",
        "text_splitter = RecursiveCharacterTextSplitter(\n",
        "    chunk_size=1000,\n",
        "    chunk_overlap=20,\n",
        "    length_function=len\n",
        ")\n",
        "\n",
        "texts = text_splitter.split_documents(documents)"
      ],
      "metadata": {
        "id": "Xeu8QDAXfYBc"
      },
      "execution_count": null,
      "outputs": []
    },
    {
      "cell_type": "code",
      "source": [
        "import os\n",
        "openai_api_key = ''\n",
        "# Load environment variable for OpenAI API key\n",
        "os.environ[\"OPENAI_API_KEY\"] = openai_api_key\n",
        "embeddings = OpenAIEmbeddings(openai_api_key=os.environ.get(\"OPENAI_API_KEY\"))"
      ],
      "metadata": {
        "id": "kPbYWgFEfeTH"
      },
      "execution_count": null,
      "outputs": []
    },
    {
      "cell_type": "code",
      "source": [
        "from langchain_community.vectorstores import FAISS\n",
        "db = FAISS.from_documents(texts, embeddings)\n",
        "\n",
        "retriever = db.as_retriever()"
      ],
      "metadata": {
        "id": "6ldkqaPbffxE"
      },
      "execution_count": null,
      "outputs": []
    },
    {
      "cell_type": "code",
      "source": [
        "qa = RetrievalQA.from_chain_type(\n",
        "    llm=OpenAI(), chain_type=\"stuff\", retriever=retriever, return_source_documents=True\n",
        ")\n",
        "\n",
        "question = \"What is Microsoft and SAP collaboratively working towards?\"\n",
        "result = qa({\"query\": question})\n",
        "\n",
        "print(result['result'])"
      ],
      "metadata": {
        "id": "UqCwnoC9fiOw"
      },
      "execution_count": null,
      "outputs": []
    }
  ]
}